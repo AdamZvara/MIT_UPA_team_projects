{
 "cells": [
  {
   "cell_type": "code",
   "execution_count": 1,
   "metadata": {},
   "outputs": [],
   "source": [
    "import pandas as pd\n",
    "import seaborn as sns\n",
    "from scipy import stats\n",
    "\n",
    "pd.options.mode.chained_assignment = None  # default='warn'\n",
    "\n",
    "df = pd.read_csv('data.tsv', header=None, sep='\\t')"
   ]
  },
  {
   "cell_type": "code",
   "execution_count": 2,
   "metadata": {},
   "outputs": [],
   "source": [
    "\"\"\" Simple preprocessing of the dataset \"\"\"\n",
    "\n",
    "# Drop URLs and last column which contains NaN for some reason\n",
    "df = df.drop(columns=[0])\n",
    "df = df.drop(columns=[8])\n",
    "# Rename columns so they are more readable\n",
    "df = df.rename(columns={1: \"name\", 2: \"price\", 3: \"size\", 4: \"battery\", 5: \"procfreq\", 6: \"resolution\", 7: \"display\"})\n",
    "\n",
    "# Prices are with commas and spaces (between thousands and hundreds), replace them with dots and remove spaces\n",
    "df['price'] = df['price'].str.replace(',', '.')\n",
    "df['price'] = df['price'].str.replace(' ', '').astype(float)\n",
    "\n",
    "# Create a new column for brand\n",
    "df[\"brand\"] = df[\"name\"].str.split(' ').str[0].str.split('/').str[0]\n",
    "\n",
    "df.head()\n",
    "\n",
    "\"\"\" Join similar display types \"\"\"\n",
    "\n",
    "df['display'] = df['display'].str.lower()\n",
    "\n",
    "displays = df['display'].unique().astype(str)\n",
    "\n",
    "# Join AMOLED groups together\n",
    "amoled = [d for d in displays if 'amoled' in d]\n",
    "df = df.replace(amoled, 'AMOLED')\n",
    "\n",
    "# Join LCD groups together\n",
    "lcd = [x for x in displays if 'lcd' in x]\n",
    "df = df.replace(lcd, 'LCD')\n",
    "\n",
    "# Join OLED groups together\n",
    "oled = [x for x in displays if 'oled' in x and 'amoled' not in x]\n",
    "df = df.replace(oled, 'OLED')\n",
    "\n",
    "# Join the rest of the displays together\n",
    "rest = [x for x in displays if x not in amoled and x not in lcd and x not in oled]\n",
    "df = df.replace(rest, 'Others')"
   ]
  },
  {
   "cell_type": "markdown",
   "metadata": {},
   "source": [
    "# First dataset preparation"
   ]
  },
  {
   "cell_type": "code",
   "execution_count": 3,
   "metadata": {},
   "outputs": [
    {
     "data": {
      "text/html": [
       "<div>\n",
       "<style scoped>\n",
       "    .dataframe tbody tr th:only-of-type {\n",
       "        vertical-align: middle;\n",
       "    }\n",
       "\n",
       "    .dataframe tbody tr th {\n",
       "        vertical-align: top;\n",
       "    }\n",
       "\n",
       "    .dataframe thead th {\n",
       "        text-align: right;\n",
       "    }\n",
       "</style>\n",
       "<table border=\"1\" class=\"dataframe\">\n",
       "  <thead>\n",
       "    <tr style=\"text-align: right;\">\n",
       "      <th></th>\n",
       "      <th>price</th>\n",
       "      <th>procfreq</th>\n",
       "      <th>display</th>\n",
       "      <th>brand</th>\n",
       "    </tr>\n",
       "  </thead>\n",
       "  <tbody>\n",
       "    <tr>\n",
       "      <th>0</th>\n",
       "      <td>876.2</td>\n",
       "      <td>3.30</td>\n",
       "      <td>OLED</td>\n",
       "      <td>Honor</td>\n",
       "    </tr>\n",
       "    <tr>\n",
       "      <th>1</th>\n",
       "      <td>321.0</td>\n",
       "      <td>2.75</td>\n",
       "      <td>AMOLED</td>\n",
       "      <td>Samsung</td>\n",
       "    </tr>\n",
       "    <tr>\n",
       "      <th>2</th>\n",
       "      <td>198.9</td>\n",
       "      <td>2.40</td>\n",
       "      <td>AMOLED</td>\n",
       "      <td>Samsung</td>\n",
       "    </tr>\n",
       "    <tr>\n",
       "      <th>3</th>\n",
       "      <td>239.9</td>\n",
       "      <td>2.40</td>\n",
       "      <td>AMOLED</td>\n",
       "      <td>Samsung</td>\n",
       "    </tr>\n",
       "    <tr>\n",
       "      <th>4</th>\n",
       "      <td>163.3</td>\n",
       "      <td>2.20</td>\n",
       "      <td>AMOLED</td>\n",
       "      <td>Samsung</td>\n",
       "    </tr>\n",
       "  </tbody>\n",
       "</table>\n",
       "</div>"
      ],
      "text/plain": [
       "   price  procfreq display    brand\n",
       "0  876.2      3.30    OLED    Honor\n",
       "1  321.0      2.75  AMOLED  Samsung\n",
       "2  198.9      2.40  AMOLED  Samsung\n",
       "3  239.9      2.40  AMOLED  Samsung\n",
       "4  163.3      2.20  AMOLED  Samsung"
      ]
     },
     "execution_count": 3,
     "metadata": {},
     "output_type": "execute_result"
    }
   ],
   "source": [
    "\"\"\" Keep only relevant columns \"\"\"\n",
    "df1 = df[[\"price\", \"procfreq\", \"display\", \"brand\"]]\n",
    "df1.head()"
   ]
  },
  {
   "cell_type": "markdown",
   "metadata": {},
   "source": [
    "### Missing values"
   ]
  },
  {
   "cell_type": "code",
   "execution_count": 4,
   "metadata": {},
   "outputs": [
    {
     "data": {
      "text/html": [
       "<div>\n",
       "<style scoped>\n",
       "    .dataframe tbody tr th:only-of-type {\n",
       "        vertical-align: middle;\n",
       "    }\n",
       "\n",
       "    .dataframe tbody tr th {\n",
       "        vertical-align: top;\n",
       "    }\n",
       "\n",
       "    .dataframe thead th {\n",
       "        text-align: right;\n",
       "    }\n",
       "</style>\n",
       "<table border=\"1\" class=\"dataframe\">\n",
       "  <thead>\n",
       "    <tr style=\"text-align: right;\">\n",
       "      <th></th>\n",
       "      <th>price</th>\n",
       "      <th>procfreq</th>\n",
       "      <th>display</th>\n",
       "      <th>brand</th>\n",
       "    </tr>\n",
       "  </thead>\n",
       "  <tbody>\n",
       "    <tr>\n",
       "      <th>29</th>\n",
       "      <td>150.4</td>\n",
       "      <td>NaN</td>\n",
       "      <td>NaN</td>\n",
       "      <td>Xiaomi</td>\n",
       "    </tr>\n",
       "    <tr>\n",
       "      <th>43</th>\n",
       "      <td>170.8</td>\n",
       "      <td>NaN</td>\n",
       "      <td>LCD</td>\n",
       "      <td>Oppo</td>\n",
       "    </tr>\n",
       "    <tr>\n",
       "      <th>122</th>\n",
       "      <td>599.0</td>\n",
       "      <td>NaN</td>\n",
       "      <td>NaN</td>\n",
       "      <td>ThinkPhone</td>\n",
       "    </tr>\n",
       "  </tbody>\n",
       "</table>\n",
       "</div>"
      ],
      "text/plain": [
       "     price  procfreq display       brand\n",
       "29   150.4       NaN     NaN      Xiaomi\n",
       "43   170.8       NaN     LCD        Oppo\n",
       "122  599.0       NaN     NaN  ThinkPhone"
      ]
     },
     "execution_count": 4,
     "metadata": {},
     "output_type": "execute_result"
    }
   ],
   "source": [
    "\"\"\" Check for missing values \"\"\"\n",
    "df1_nan = df1[df1.isnull().any(axis=1)]\n",
    "df1_nan"
   ]
  },
  {
   "cell_type": "code",
   "execution_count": 5,
   "metadata": {},
   "outputs": [
    {
     "name": "stdout",
     "output_type": "stream",
     "text": [
      "    price  procfreq display   brand\n",
      "29  150.4       NaN     NaN  Xiaomi\n",
      "43  170.8       NaN     LCD    Oppo\n"
     ]
    }
   ],
   "source": [
    "\"\"\" Drop picked rows \"\"\"\n",
    "df1 = df1.drop(index=122)\n",
    "print(df1[df1.isnull().any(axis=1)])"
   ]
  },
  {
   "cell_type": "code",
   "execution_count": 6,
   "metadata": {},
   "outputs": [
    {
     "name": "stdout",
     "output_type": "stream",
     "text": [
      "     price  procfreq display brand\n",
      "37   230.4       2.4    OLED  Oppo\n",
      "42   378.8       2.5  AMOLED  Oppo\n",
      "43   170.8       NaN     LCD  Oppo\n",
      "118  228.9       2.2     LCD  Oppo\n",
      "142  159.1       2.3     LCD  Oppo\n",
      "\n",
      "     price  procfreq display brand\n",
      "37   230.4      2.40    OLED  Oppo\n",
      "42   378.8      2.50  AMOLED  Oppo\n",
      "43   170.8      2.35     LCD  Oppo\n",
      "118  228.9      2.20     LCD  Oppo\n",
      "142  159.1      2.30     LCD  Oppo\n",
      "\n",
      "price        150.4\n",
      "procfreq       NaN\n",
      "display        NaN\n",
      "brand       Xiaomi\n",
      "\n",
      "display\n",
      "AMOLED    21\n",
      "LCD       16\n",
      "OLED       1\n",
      "Name: count, dtype: int64 \n",
      "\n",
      "price          150.4\n",
      "procfreq    2.435526\n",
      "display       AMOLED\n",
      "brand         Xiaomi\n",
      "\n",
      "Remaining NaN values: 0\n"
     ]
    }
   ],
   "source": [
    "\"\"\" Fill the remaining NaN values with the mean of the column from the same brand \"\"\"\n",
    "\n",
    "# Print Oppo brand before filling NaN values\n",
    "print(df1[df1[\"brand\"] == \"Oppo\"].to_string())\n",
    "print()\n",
    "\n",
    "# Fill Oppo NaN values with mean and print again  \n",
    "procfreq_means = df1.groupby('brand')[\"procfreq\"].mean()\n",
    "df1.loc[43, \"procfreq\"] = procfreq_means[\"Oppo\"]\n",
    "print(df1[df1[\"brand\"] == \"Oppo\"].to_string())\n",
    "print()\n",
    "\n",
    "# Do the same for the other missing values\n",
    "print(df1.iloc[29].to_string())\n",
    "print()\n",
    "\n",
    "display_counts = df1.groupby('brand')[\"display\"].value_counts()\n",
    "df1.loc[29, \"procfreq\"] = procfreq_means[\"Xiaomi\"]\n",
    "# Here we see that the highest count for Xiaomi is AMOLED, so we fill the NaN value with AMOLED\n",
    "print(display_counts[\"Xiaomi\"], \"\\n\")\n",
    "df1.loc[29, \"display\"] = \"AMOLED\"\n",
    "print(df1.iloc[29].to_string())\n",
    "\n",
    "df1_nan = df1[df1.isnull().any(axis=1)]\n",
    "print(f\"\\nRemaining NaN values: {len(df1_nan)}\")\n"
   ]
  },
  {
   "cell_type": "markdown",
   "metadata": {},
   "source": [
    "### Deleting outliers"
   ]
  },
  {
   "cell_type": "code",
   "execution_count": 7,
   "metadata": {},
   "outputs": [
    {
     "data": {
      "text/plain": [
       "<Axes: xlabel='price', ylabel='procfreq'>"
      ]
     },
     "execution_count": 7,
     "metadata": {},
     "output_type": "execute_result"
    },
    {
     "data": {
      "image/png": "[encoded data removed]",
      "text/plain": [
       "<Figure size 640x480 with 1 Axes>"
      ]
     },
     "metadata": {},
     "output_type": "display_data"
    }
   ],
   "source": [
    "sns.scatterplot(data=df1, x=\"price\", y=\"procfreq\")"
   ]
  },
  {
   "cell_type": "code",
   "execution_count": 8,
   "metadata": {},
   "outputs": [
    {
     "name": "stdout",
     "output_type": "stream",
     "text": [
      "     price  procfreq display    brand\n",
      "78  1298.8      3.19    OLED    Honor\n",
      "90  1898.8      3.20  AMOLED  OnePlus\n"
     ]
    }
   ],
   "source": [
    "\"\"\" Calculate outliers based on |z-index| > 3 \"\"\"\n",
    "\n",
    "# Calculate z-scores for each row\n",
    "z_scores1 = abs(stats.zscore(df1[[\"price\", \"procfreq\"]]))\n",
    "# Outliers are rows where at least one z-score is greater than 3\n",
    "outliers1 = z_scores1[z_scores1 > 3].any(axis=1)\n",
    "# Pick outliers\n",
    "df1_outliers = df1[outliers1]\n",
    "print(df1_outliers)\n",
    "\n",
    "df1.drop(index=[28, 52, 90], inplace=True)"
   ]
  },
  {
   "cell_type": "code",
   "execution_count": 9,
   "metadata": {},
   "outputs": [
    {
     "data": {
      "text/plain": [
       "<Axes: xlabel='price', ylabel='procfreq'>"
      ]
     },
     "execution_count": 9,
     "metadata": {},
     "output_type": "execute_result"
    },
    {
     "data": {
      "image/png": "[encoded data removed]",
      "text/plain": [
       "<Figure size 640x480 with 1 Axes>"
      ]
     },
     "metadata": {},
     "output_type": "display_data"
    }
   ],
   "source": [
    "sns.scatterplot(data=df1, x=\"price\", y=\"procfreq\")"
   ]
  },
  {
   "cell_type": "markdown",
   "metadata": {},
   "source": [
    "### Discretization of numerical variables"
   ]
  },
  {
   "cell_type": "code",
   "execution_count": 10,
   "metadata": {},
   "outputs": [
    {
     "data": {
      "text/plain": [
       "(0      very high\n",
       " 1           high\n",
       " 2         medium\n",
       " 3         medium\n",
       " 4            low\n",
       "          ...    \n",
       " 145         high\n",
       " 146          low\n",
       " 147          low\n",
       " 148          low\n",
       " 149          low\n",
       " Name: procfreq, Length: 146, dtype: category\n",
       " Categories (5, object): ['very low' < 'low' < 'medium' < 'high' < 'very high'],\n",
       " array([1.5982, 1.96  , 2.32  , 2.68  , 3.04  , 3.4   ]))"
      ]
     },
     "execution_count": 10,
     "metadata": {},
     "output_type": "execute_result"
    }
   ],
   "source": [
    "pd.cut(df1[\"procfreq\"], bins=5, retbins=True, labels=[\"very low\", \"low\", \"medium\", \"high\", \"very high\"])"
   ]
  },
  {
   "cell_type": "code",
   "execution_count": 11,
   "metadata": {},
   "outputs": [
    {
     "data": {
      "image/png": "[encoded data removed]",
      "text/plain": [
       "<Figure size 640x480 with 1 Axes>"
      ]
     },
     "metadata": {},
     "output_type": "display_data"
    }
   ],
   "source": [
    "\"\"\" Categorize procfreq into 5 categories \"\"\"\n",
    "\n",
    "df1[\"procfreq_cat\"] = pd.cut(df1[\"procfreq\"], bins=5, labels=[\"very low\", \"low\", \"medium\", \"high\", \"very high\"])\n",
    "sns.scatterplot(data=df1, x=\"price\", y=\"procfreq\", hue=\"procfreq_cat\")\n",
    "\n",
    "# Drop the original procfreq column\n",
    "df1 = df1.drop(columns=[\"procfreq\"])"
   ]
  },
  {
   "cell_type": "code",
   "execution_count": 12,
   "metadata": {},
   "outputs": [
    {
     "data": {
      "text/html": [
       "<div>\n",
       "<style scoped>\n",
       "    .dataframe tbody tr th:only-of-type {\n",
       "        vertical-align: middle;\n",
       "    }\n",
       "\n",
       "    .dataframe tbody tr th {\n",
       "        vertical-align: top;\n",
       "    }\n",
       "\n",
       "    .dataframe thead th {\n",
       "        text-align: right;\n",
       "    }\n",
       "</style>\n",
       "<table border=\"1\" class=\"dataframe\">\n",
       "  <thead>\n",
       "    <tr style=\"text-align: right;\">\n",
       "      <th></th>\n",
       "      <th>price</th>\n",
       "      <th>display</th>\n",
       "      <th>brand</th>\n",
       "      <th>procfreq_cat</th>\n",
       "    </tr>\n",
       "  </thead>\n",
       "  <tbody>\n",
       "    <tr>\n",
       "      <th>0</th>\n",
       "      <td>876.2</td>\n",
       "      <td>OLED</td>\n",
       "      <td>Honor</td>\n",
       "      <td>very high</td>\n",
       "    </tr>\n",
       "    <tr>\n",
       "      <th>1</th>\n",
       "      <td>321.0</td>\n",
       "      <td>AMOLED</td>\n",
       "      <td>Samsung</td>\n",
       "      <td>high</td>\n",
       "    </tr>\n",
       "    <tr>\n",
       "      <th>2</th>\n",
       "      <td>198.9</td>\n",
       "      <td>AMOLED</td>\n",
       "      <td>Samsung</td>\n",
       "      <td>medium</td>\n",
       "    </tr>\n",
       "    <tr>\n",
       "      <th>3</th>\n",
       "      <td>239.9</td>\n",
       "      <td>AMOLED</td>\n",
       "      <td>Samsung</td>\n",
       "      <td>medium</td>\n",
       "    </tr>\n",
       "    <tr>\n",
       "      <th>4</th>\n",
       "      <td>163.3</td>\n",
       "      <td>AMOLED</td>\n",
       "      <td>Samsung</td>\n",
       "      <td>low</td>\n",
       "    </tr>\n",
       "    <tr>\n",
       "      <th>...</th>\n",
       "      <td>...</td>\n",
       "      <td>...</td>\n",
       "      <td>...</td>\n",
       "      <td>...</td>\n",
       "    </tr>\n",
       "    <tr>\n",
       "      <th>145</th>\n",
       "      <td>358.3</td>\n",
       "      <td>AMOLED</td>\n",
       "      <td>Xiaomi</td>\n",
       "      <td>high</td>\n",
       "    </tr>\n",
       "    <tr>\n",
       "      <th>146</th>\n",
       "      <td>121.0</td>\n",
       "      <td>AMOLED</td>\n",
       "      <td>POCO</td>\n",
       "      <td>low</td>\n",
       "    </tr>\n",
       "    <tr>\n",
       "      <th>147</th>\n",
       "      <td>152.6</td>\n",
       "      <td>LCD</td>\n",
       "      <td>POCO</td>\n",
       "      <td>low</td>\n",
       "    </tr>\n",
       "    <tr>\n",
       "      <th>148</th>\n",
       "      <td>118.9</td>\n",
       "      <td>LCD</td>\n",
       "      <td>Xiaomi</td>\n",
       "      <td>low</td>\n",
       "    </tr>\n",
       "    <tr>\n",
       "      <th>149</th>\n",
       "      <td>74.8</td>\n",
       "      <td>LCD</td>\n",
       "      <td>Xiaomi</td>\n",
       "      <td>low</td>\n",
       "    </tr>\n",
       "  </tbody>\n",
       "</table>\n",
       "<p>146 rows × 4 columns</p>\n",
       "</div>"
      ],
      "text/plain": [
       "     price display    brand procfreq_cat\n",
       "0    876.2    OLED    Honor    very high\n",
       "1    321.0  AMOLED  Samsung         high\n",
       "2    198.9  AMOLED  Samsung       medium\n",
       "3    239.9  AMOLED  Samsung       medium\n",
       "4    163.3  AMOLED  Samsung          low\n",
       "..     ...     ...      ...          ...\n",
       "145  358.3  AMOLED   Xiaomi         high\n",
       "146  121.0  AMOLED     POCO          low\n",
       "147  152.6     LCD     POCO          low\n",
       "148  118.9     LCD   Xiaomi          low\n",
       "149   74.8     LCD   Xiaomi          low\n",
       "\n",
       "[146 rows x 4 columns]"
      ]
     },
     "execution_count": 12,
     "metadata": {},
     "output_type": "execute_result"
    }
   ],
   "source": [
    "df1"
   ]
  },
  {
   "cell_type": "code",
   "execution_count": 13,
   "metadata": {},
   "outputs": [],
   "source": [
    "\"\"\" Store dataset to a new file \"\"\"\n",
    "df1.to_csv('dataset1.csv', sep=',', index=False)"
   ]
  },
  {
   "cell_type": "markdown",
   "metadata": {},
   "source": [
    "# Second dataset preparation"
   ]
  },
  {
   "cell_type": "code",
   "execution_count": 14,
   "metadata": {},
   "outputs": [
    {
     "data": {
      "text/html": [
       "<div>\n",
       "<style scoped>\n",
       "    .dataframe tbody tr th:only-of-type {\n",
       "        vertical-align: middle;\n",
       "    }\n",
       "\n",
       "    .dataframe tbody tr th {\n",
       "        vertical-align: top;\n",
       "    }\n",
       "\n",
       "    .dataframe thead th {\n",
       "        text-align: right;\n",
       "    }\n",
       "</style>\n",
       "<table border=\"1\" class=\"dataframe\">\n",
       "  <thead>\n",
       "    <tr style=\"text-align: right;\">\n",
       "      <th></th>\n",
       "      <th>size</th>\n",
       "      <th>battery</th>\n",
       "      <th>procfreq</th>\n",
       "      <th>resolution</th>\n",
       "      <th>display</th>\n",
       "    </tr>\n",
       "  </thead>\n",
       "  <tbody>\n",
       "    <tr>\n",
       "      <th>0</th>\n",
       "      <td>6.8</td>\n",
       "      <td>5600.0</td>\n",
       "      <td>3.30</td>\n",
       "      <td>180.0</td>\n",
       "      <td>OLED</td>\n",
       "    </tr>\n",
       "    <tr>\n",
       "      <th>1</th>\n",
       "      <td>6.6</td>\n",
       "      <td>5000.0</td>\n",
       "      <td>2.75</td>\n",
       "      <td>50.0</td>\n",
       "      <td>AMOLED</td>\n",
       "    </tr>\n",
       "    <tr>\n",
       "      <th>2</th>\n",
       "      <td>6.5</td>\n",
       "      <td>5000.0</td>\n",
       "      <td>2.40</td>\n",
       "      <td>50.0</td>\n",
       "      <td>AMOLED</td>\n",
       "    </tr>\n",
       "    <tr>\n",
       "      <th>3</th>\n",
       "      <td>6.6</td>\n",
       "      <td>5000.0</td>\n",
       "      <td>2.40</td>\n",
       "      <td>50.0</td>\n",
       "      <td>AMOLED</td>\n",
       "    </tr>\n",
       "    <tr>\n",
       "      <th>4</th>\n",
       "      <td>6.5</td>\n",
       "      <td>5000.0</td>\n",
       "      <td>2.20</td>\n",
       "      <td>50.0</td>\n",
       "      <td>AMOLED</td>\n",
       "    </tr>\n",
       "  </tbody>\n",
       "</table>\n",
       "</div>"
      ],
      "text/plain": [
       "   size  battery  procfreq  resolution display\n",
       "0   6.8   5600.0      3.30       180.0    OLED\n",
       "1   6.6   5000.0      2.75        50.0  AMOLED\n",
       "2   6.5   5000.0      2.40        50.0  AMOLED\n",
       "3   6.6   5000.0      2.40        50.0  AMOLED\n",
       "4   6.5   5000.0      2.20        50.0  AMOLED"
      ]
     },
     "execution_count": 14,
     "metadata": {},
     "output_type": "execute_result"
    }
   ],
   "source": [
    "\"\"\" Keep only relevant columns \"\"\"\n",
    "df2 = df[[\"size\", \"battery\", \"procfreq\", \"resolution\", \"display\"]]\n",
    "df2.head()"
   ]
  },
  {
   "cell_type": "markdown",
   "metadata": {},
   "source": [
    "### Missing values"
   ]
  },
  {
   "cell_type": "code",
   "execution_count": 15,
   "metadata": {},
   "outputs": [
    {
     "data": {
      "text/html": [
       "<div>\n",
       "<style scoped>\n",
       "    .dataframe tbody tr th:only-of-type {\n",
       "        vertical-align: middle;\n",
       "    }\n",
       "\n",
       "    .dataframe tbody tr th {\n",
       "        vertical-align: top;\n",
       "    }\n",
       "\n",
       "    .dataframe thead th {\n",
       "        text-align: right;\n",
       "    }\n",
       "</style>\n",
       "<table border=\"1\" class=\"dataframe\">\n",
       "  <thead>\n",
       "    <tr style=\"text-align: right;\">\n",
       "      <th></th>\n",
       "      <th>size</th>\n",
       "      <th>battery</th>\n",
       "      <th>procfreq</th>\n",
       "      <th>resolution</th>\n",
       "      <th>display</th>\n",
       "    </tr>\n",
       "  </thead>\n",
       "  <tbody>\n",
       "    <tr>\n",
       "      <th>29</th>\n",
       "      <td>NaN</td>\n",
       "      <td>NaN</td>\n",
       "      <td>NaN</td>\n",
       "      <td>NaN</td>\n",
       "      <td>NaN</td>\n",
       "    </tr>\n",
       "    <tr>\n",
       "      <th>43</th>\n",
       "      <td>6.72</td>\n",
       "      <td>5000.0</td>\n",
       "      <td>NaN</td>\n",
       "      <td>50.0</td>\n",
       "      <td>LCD</td>\n",
       "    </tr>\n",
       "    <tr>\n",
       "      <th>122</th>\n",
       "      <td>NaN</td>\n",
       "      <td>NaN</td>\n",
       "      <td>NaN</td>\n",
       "      <td>NaN</td>\n",
       "      <td>NaN</td>\n",
       "    </tr>\n",
       "  </tbody>\n",
       "</table>\n",
       "</div>"
      ],
      "text/plain": [
       "     size  battery  procfreq  resolution display\n",
       "29    NaN      NaN       NaN         NaN     NaN\n",
       "43   6.72   5000.0       NaN        50.0     LCD\n",
       "122   NaN      NaN       NaN         NaN     NaN"
      ]
     },
     "execution_count": 15,
     "metadata": {},
     "output_type": "execute_result"
    }
   ],
   "source": [
    "\"\"\" Check for missing values \"\"\"\n",
    "df2_nan = df2[df2.isnull().any(axis=1)]\n",
    "df2_nan"
   ]
  },
  {
   "cell_type": "code",
   "execution_count": 16,
   "metadata": {},
   "outputs": [
    {
     "name": "stdout",
     "output_type": "stream",
     "text": [
      "Empty DataFrame\n",
      "Columns: [size, battery, procfreq, resolution, display]\n",
      "Index: []\n"
     ]
    }
   ],
   "source": [
    "\"\"\" Drop values with more than 1 NaN \"\"\"\n",
    "\n",
    "df2 = df2.dropna(thresh=2)\n",
    "\n",
    "\"\"\" Fill the remaining NaN values with the mean of the column \"\"\"\n",
    "df2 = df2.fillna(df[\"procfreq\"].mean())\n",
    "\n",
    "print(df2[df2.isnull().any(axis=1)])"
   ]
  },
  {
   "cell_type": "markdown",
   "metadata": {},
   "source": [
    "### Outliers"
   ]
  },
  {
   "cell_type": "code",
   "execution_count": 17,
   "metadata": {},
   "outputs": [
    {
     "name": "stdout",
     "output_type": "stream",
     "text": [
      "     size  battery  procfreq  resolution display\n",
      "6    6.67   5000.0      2.80       200.0  AMOLED\n",
      "8    6.67   5000.0      2.20       200.0  AMOLED\n",
      "22   6.67   5000.0      2.60       200.0  AMOLED\n",
      "52   3.63   4200.0      2.50        50.0    OLED\n",
      "57   4.00   4000.0      3.00        50.0    OLED\n",
      "70   6.67   5000.0      2.80       200.0  AMOLED\n",
      "93   6.80   5000.0      3.39       200.0  AMOLED\n",
      "96   6.67   5100.0      2.40       200.0  AMOLED\n",
      "113  3.40   3700.0      3.36        12.0  AMOLED\n",
      "114  6.70   5000.0      2.50       200.0  AMOLED\n"
     ]
    },
    {
     "data": {
      "text/plain": [
       "<Axes: xlabel='size', ylabel='battery'>"
      ]
     },
     "execution_count": 17,
     "metadata": {},
     "output_type": "execute_result"
    },
    {
     "data": {
      "image/png": "[encoded data removed]",
      "text/plain": [
       "<Figure size 640x480 with 1 Axes>"
      ]
     },
     "metadata": {},
     "output_type": "display_data"
    }
   ],
   "source": [
    "# Calculate z-scores for each row\n",
    "z_scores2 = abs(stats.zscore(df2[[\"size\", \"battery\", \"procfreq\", \"resolution\"]]))\n",
    "# Outliers are rows where at least one z-score is greater than 3\n",
    "outliers2 = z_scores2[z_scores2 > 3].any(axis=1)\n",
    "# Pick outliers\n",
    "df2_outliers = df2[outliers2]\n",
    "print(df2_outliers)\n",
    "\n",
    "sns.scatterplot(data=df2, x=\"size\", y=\"battery\")"
   ]
  },
  {
   "cell_type": "code",
   "execution_count": 18,
   "metadata": {},
   "outputs": [],
   "source": [
    "\"\"\" Drop size outliers \"\"\"\n",
    "df2 = df2.drop(index=[52, 57, 113])"
   ]
  },
  {
   "cell_type": "code",
   "execution_count": 19,
   "metadata": {},
   "outputs": [
    {
     "data": {
      "text/plain": [
       "<Axes: xlabel='size', ylabel='battery'>"
      ]
     },
     "execution_count": 19,
     "metadata": {},
     "output_type": "execute_result"
    },
    {
     "data": {
      "image/png": "[encoded data removed]",
      "text/plain": [
       "<Figure size 640x480 with 1 Axes>"
      ]
     },
     "metadata": {},
     "output_type": "display_data"
    }
   ],
   "source": [
    "sns.scatterplot(data=df2, x=\"size\", y=\"battery\")"
   ]
  },
  {
   "cell_type": "markdown",
   "metadata": {},
   "source": [
    "### Transformation of categorical variables into numerical"
   ]
  },
  {
   "cell_type": "code",
   "execution_count": 20,
   "metadata": {},
   "outputs": [],
   "source": [
    "\"\"\" One-hot encode display \"\"\"\n",
    "one_hot = pd.get_dummies(df2[\"display\"], dtype=int)\n",
    "df2 = pd.concat([df2, one_hot], axis=1)\n",
    "df2 = df2.drop(columns=[\"display\"])"
   ]
  },
  {
   "cell_type": "markdown",
   "metadata": {},
   "source": [
    "### Normalization of numerical variables to <0,1> or <-1,1> ranges"
   ]
  },
  {
   "cell_type": "code",
   "execution_count": 21,
   "metadata": {},
   "outputs": [],
   "source": [
    "# stats.zscore(df2[[\"size\", \"battery\", \"procfreq\", \"resolution\"]])\n",
    "\n",
    "def normalize(values):\n",
    "    min = values.min()\n",
    "    max = values.max()\n",
    "    return (values - min) / (max - min)\n",
    "\n",
    "df2[\"size\"] = normalize(df2[\"size\"])\n",
    "df2[\"battery\"] = normalize(df2[\"battery\"])\n",
    "df2[\"procfreq\"] = normalize(df2[\"procfreq\"])\n",
    "df2[\"resolution\"] = normalize(df2[\"resolution\"])\n"
   ]
  },
  {
   "cell_type": "code",
   "execution_count": 22,
   "metadata": {},
   "outputs": [
    {
     "data": {
      "text/html": [
       "<div>\n",
       "<style scoped>\n",
       "    .dataframe tbody tr th:only-of-type {\n",
       "        vertical-align: middle;\n",
       "    }\n",
       "\n",
       "    .dataframe tbody tr th {\n",
       "        vertical-align: top;\n",
       "    }\n",
       "\n",
       "    .dataframe thead th {\n",
       "        text-align: right;\n",
       "    }\n",
       "</style>\n",
       "<table border=\"1\" class=\"dataframe\">\n",
       "  <thead>\n",
       "    <tr style=\"text-align: right;\">\n",
       "      <th></th>\n",
       "      <th>size</th>\n",
       "      <th>battery</th>\n",
       "      <th>procfreq</th>\n",
       "      <th>resolution</th>\n",
       "      <th>AMOLED</th>\n",
       "      <th>LCD</th>\n",
       "      <th>OLED</th>\n",
       "      <th>Others</th>\n",
       "    </tr>\n",
       "  </thead>\n",
       "  <tbody>\n",
       "    <tr>\n",
       "      <th>0</th>\n",
       "      <td>0.897436</td>\n",
       "      <td>0.809524</td>\n",
       "      <td>0.944444</td>\n",
       "      <td>0.895833</td>\n",
       "      <td>0</td>\n",
       "      <td>0</td>\n",
       "      <td>1</td>\n",
       "      <td>0</td>\n",
       "    </tr>\n",
       "    <tr>\n",
       "      <th>1</th>\n",
       "      <td>0.641026</td>\n",
       "      <td>0.523810</td>\n",
       "      <td>0.638889</td>\n",
       "      <td>0.218750</td>\n",
       "      <td>1</td>\n",
       "      <td>0</td>\n",
       "      <td>0</td>\n",
       "      <td>0</td>\n",
       "    </tr>\n",
       "    <tr>\n",
       "      <th>2</th>\n",
       "      <td>0.512821</td>\n",
       "      <td>0.523810</td>\n",
       "      <td>0.444444</td>\n",
       "      <td>0.218750</td>\n",
       "      <td>1</td>\n",
       "      <td>0</td>\n",
       "      <td>0</td>\n",
       "      <td>0</td>\n",
       "    </tr>\n",
       "    <tr>\n",
       "      <th>3</th>\n",
       "      <td>0.641026</td>\n",
       "      <td>0.523810</td>\n",
       "      <td>0.444444</td>\n",
       "      <td>0.218750</td>\n",
       "      <td>1</td>\n",
       "      <td>0</td>\n",
       "      <td>0</td>\n",
       "      <td>0</td>\n",
       "    </tr>\n",
       "    <tr>\n",
       "      <th>4</th>\n",
       "      <td>0.512821</td>\n",
       "      <td>0.523810</td>\n",
       "      <td>0.333333</td>\n",
       "      <td>0.218750</td>\n",
       "      <td>1</td>\n",
       "      <td>0</td>\n",
       "      <td>0</td>\n",
       "      <td>0</td>\n",
       "    </tr>\n",
       "    <tr>\n",
       "      <th>...</th>\n",
       "      <td>...</td>\n",
       "      <td>...</td>\n",
       "      <td>...</td>\n",
       "      <td>...</td>\n",
       "      <td>...</td>\n",
       "      <td>...</td>\n",
       "      <td>...</td>\n",
       "      <td>...</td>\n",
       "    </tr>\n",
       "    <tr>\n",
       "      <th>145</th>\n",
       "      <td>0.730769</td>\n",
       "      <td>0.523810</td>\n",
       "      <td>0.694444</td>\n",
       "      <td>0.520833</td>\n",
       "      <td>1</td>\n",
       "      <td>0</td>\n",
       "      <td>0</td>\n",
       "      <td>0</td>\n",
       "    </tr>\n",
       "    <tr>\n",
       "      <th>146</th>\n",
       "      <td>0.423077</td>\n",
       "      <td>0.523810</td>\n",
       "      <td>0.250000</td>\n",
       "      <td>0.291667</td>\n",
       "      <td>1</td>\n",
       "      <td>0</td>\n",
       "      <td>0</td>\n",
       "      <td>0</td>\n",
       "    </tr>\n",
       "    <tr>\n",
       "      <th>147</th>\n",
       "      <td>0.615385</td>\n",
       "      <td>0.523810</td>\n",
       "      <td>0.333333</td>\n",
       "      <td>0.218750</td>\n",
       "      <td>0</td>\n",
       "      <td>1</td>\n",
       "      <td>0</td>\n",
       "      <td>0</td>\n",
       "    </tr>\n",
       "    <tr>\n",
       "      <th>148</th>\n",
       "      <td>0.615385</td>\n",
       "      <td>0.523810</td>\n",
       "      <td>0.333333</td>\n",
       "      <td>0.218750</td>\n",
       "      <td>0</td>\n",
       "      <td>1</td>\n",
       "      <td>0</td>\n",
       "      <td>0</td>\n",
       "    </tr>\n",
       "    <tr>\n",
       "      <th>149</th>\n",
       "      <td>0.538462</td>\n",
       "      <td>0.523810</td>\n",
       "      <td>0.222222</td>\n",
       "      <td>0.000000</td>\n",
       "      <td>0</td>\n",
       "      <td>1</td>\n",
       "      <td>0</td>\n",
       "      <td>0</td>\n",
       "    </tr>\n",
       "  </tbody>\n",
       "</table>\n",
       "<p>145 rows × 8 columns</p>\n",
       "</div>"
      ],
      "text/plain": [
       "         size   battery  procfreq  resolution  AMOLED  LCD  OLED  Others\n",
       "0    0.897436  0.809524  0.944444    0.895833       0    0     1       0\n",
       "1    0.641026  0.523810  0.638889    0.218750       1    0     0       0\n",
       "2    0.512821  0.523810  0.444444    0.218750       1    0     0       0\n",
       "3    0.641026  0.523810  0.444444    0.218750       1    0     0       0\n",
       "4    0.512821  0.523810  0.333333    0.218750       1    0     0       0\n",
       "..        ...       ...       ...         ...     ...  ...   ...     ...\n",
       "145  0.730769  0.523810  0.694444    0.520833       1    0     0       0\n",
       "146  0.423077  0.523810  0.250000    0.291667       1    0     0       0\n",
       "147  0.615385  0.523810  0.333333    0.218750       0    1     0       0\n",
       "148  0.615385  0.523810  0.333333    0.218750       0    1     0       0\n",
       "149  0.538462  0.523810  0.222222    0.000000       0    1     0       0\n",
       "\n",
       "[145 rows x 8 columns]"
      ]
     },
     "execution_count": 22,
     "metadata": {},
     "output_type": "execute_result"
    }
   ],
   "source": [
    "df2"
   ]
  },
  {
   "cell_type": "code",
   "execution_count": 23,
   "metadata": {},
   "outputs": [],
   "source": [
    "\"\"\" Save the dataset to a new file \"\"\"\n",
    "df2.to_csv('dataset2.csv', sep=',', index=False)"
   ]
  }
 ],
 "metadata": {
  "kernelspec": {
   "display_name": ".venv",
   "language": "python",
   "name": "python3"
  },
  "language_info": {
   "codemirror_mode": {
    "name": "ipython",
    "version": 3
   },
   "file_extension": ".py",
   "mimetype": "text/x-python",
   "name": "python",
   "nbconvert_exporter": "python",
   "pygments_lexer": "ipython3",
   "version": "3.11.5"
  }
 },
 "nbformat": 4,
 "nbformat_minor": 2
}
